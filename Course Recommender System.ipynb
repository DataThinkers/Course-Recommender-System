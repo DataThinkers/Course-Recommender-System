{
 "cells": [
  {
   "cell_type": "markdown",
   "metadata": {},
   "source": [
    "### https://www.kaggle.com/datasets/andrewmvd/udemy-courses"
   ]
  },
  {
   "cell_type": "code",
   "execution_count": 1,
   "metadata": {},
   "outputs": [],
   "source": [
    "import pandas as pd\n",
    "import neattext.functions as nfx\n",
    "from sklearn.feature_extraction.text import TfidfVectorizer,CountVectorizer\n",
    "from sklearn.metrics.pairwise import cosine_similarity"
   ]
  },
  {
   "cell_type": "code",
   "execution_count": 2,
   "metadata": {},
   "outputs": [],
   "source": [
    "#!pip install neattext"
   ]
  },
  {
   "cell_type": "code",
   "execution_count": 3,
   "metadata": {},
   "outputs": [],
   "source": [
    "data = pd.read_csv('udemy_courses.csv')"
   ]
  },
  {
   "cell_type": "code",
   "execution_count": 4,
   "metadata": {},
   "outputs": [
    {
     "data": {
      "text/plain": [
       "Index(['course_id', 'course_title', 'url', 'is_paid', 'price',\n",
       "       'num_subscribers', 'num_reviews', 'num_lectures', 'level',\n",
       "       'content_duration', 'published_timestamp', 'subject'],\n",
       "      dtype='object')"
      ]
     },
     "execution_count": 4,
     "metadata": {},
     "output_type": "execute_result"
    }
   ],
   "source": [
    "data.columns"
   ]
  },
  {
   "cell_type": "code",
   "execution_count": 5,
   "metadata": {},
   "outputs": [
    {
     "data": {
      "text/html": [
       "<div>\n",
       "<style scoped>\n",
       "    .dataframe tbody tr th:only-of-type {\n",
       "        vertical-align: middle;\n",
       "    }\n",
       "\n",
       "    .dataframe tbody tr th {\n",
       "        vertical-align: top;\n",
       "    }\n",
       "\n",
       "    .dataframe thead th {\n",
       "        text-align: right;\n",
       "    }\n",
       "</style>\n",
       "<table border=\"1\" class=\"dataframe\">\n",
       "  <thead>\n",
       "    <tr style=\"text-align: right;\">\n",
       "      <th></th>\n",
       "      <th>course_id</th>\n",
       "      <th>course_title</th>\n",
       "      <th>url</th>\n",
       "      <th>is_paid</th>\n",
       "      <th>price</th>\n",
       "      <th>num_subscribers</th>\n",
       "      <th>num_reviews</th>\n",
       "      <th>num_lectures</th>\n",
       "      <th>level</th>\n",
       "      <th>content_duration</th>\n",
       "      <th>published_timestamp</th>\n",
       "      <th>subject</th>\n",
       "    </tr>\n",
       "  </thead>\n",
       "  <tbody>\n",
       "    <tr>\n",
       "      <th>0</th>\n",
       "      <td>1070968</td>\n",
       "      <td>Ultimate Investment Banking Course</td>\n",
       "      <td>https://www.udemy.com/ultimate-investment-bank...</td>\n",
       "      <td>True</td>\n",
       "      <td>200</td>\n",
       "      <td>2147</td>\n",
       "      <td>23</td>\n",
       "      <td>51</td>\n",
       "      <td>All Levels</td>\n",
       "      <td>1.5</td>\n",
       "      <td>2017-01-18T20:58:58Z</td>\n",
       "      <td>Business Finance</td>\n",
       "    </tr>\n",
       "  </tbody>\n",
       "</table>\n",
       "</div>"
      ],
      "text/plain": [
       "   course_id                        course_title  \\\n",
       "0    1070968  Ultimate Investment Banking Course   \n",
       "\n",
       "                                                 url  is_paid  price  \\\n",
       "0  https://www.udemy.com/ultimate-investment-bank...     True    200   \n",
       "\n",
       "   num_subscribers  num_reviews  num_lectures       level  content_duration  \\\n",
       "0             2147           23            51  All Levels               1.5   \n",
       "\n",
       "    published_timestamp           subject  \n",
       "0  2017-01-18T20:58:58Z  Business Finance  "
      ]
     },
     "execution_count": 5,
     "metadata": {},
     "output_type": "execute_result"
    }
   ],
   "source": [
    "data.head(1)"
   ]
  },
  {
   "cell_type": "code",
   "execution_count": 6,
   "metadata": {},
   "outputs": [
    {
     "data": {
      "text/plain": [
       "course_id              0\n",
       "course_title           0\n",
       "url                    0\n",
       "is_paid                0\n",
       "price                  0\n",
       "num_subscribers        0\n",
       "num_reviews            0\n",
       "num_lectures           0\n",
       "level                  0\n",
       "content_duration       0\n",
       "published_timestamp    0\n",
       "subject                0\n",
       "dtype: int64"
      ]
     },
     "execution_count": 6,
     "metadata": {},
     "output_type": "execute_result"
    }
   ],
   "source": [
    "data.isnull().sum()"
   ]
  },
  {
   "cell_type": "code",
   "execution_count": 7,
   "metadata": {},
   "outputs": [
    {
     "data": {
      "text/plain": [
       "True"
      ]
     },
     "execution_count": 7,
     "metadata": {},
     "output_type": "execute_result"
    }
   ],
   "source": [
    "data.duplicated().any()"
   ]
  },
  {
   "cell_type": "code",
   "execution_count": 8,
   "metadata": {},
   "outputs": [
    {
     "data": {
      "text/html": [
       "<div>\n",
       "<style scoped>\n",
       "    .dataframe tbody tr th:only-of-type {\n",
       "        vertical-align: middle;\n",
       "    }\n",
       "\n",
       "    .dataframe tbody tr th {\n",
       "        vertical-align: top;\n",
       "    }\n",
       "\n",
       "    .dataframe thead th {\n",
       "        text-align: right;\n",
       "    }\n",
       "</style>\n",
       "<table border=\"1\" class=\"dataframe\">\n",
       "  <thead>\n",
       "    <tr style=\"text-align: right;\">\n",
       "      <th></th>\n",
       "      <th>course_id</th>\n",
       "      <th>course_title</th>\n",
       "      <th>url</th>\n",
       "      <th>is_paid</th>\n",
       "      <th>price</th>\n",
       "      <th>num_subscribers</th>\n",
       "      <th>num_reviews</th>\n",
       "      <th>num_lectures</th>\n",
       "      <th>level</th>\n",
       "      <th>content_duration</th>\n",
       "      <th>published_timestamp</th>\n",
       "      <th>subject</th>\n",
       "    </tr>\n",
       "  </thead>\n",
       "  <tbody>\n",
       "    <tr>\n",
       "      <th>787</th>\n",
       "      <td>837322</td>\n",
       "      <td>Essentials of money value: Get a financial Life !</td>\n",
       "      <td>https://www.udemy.com/essentials-of-money-value/</td>\n",
       "      <td>True</td>\n",
       "      <td>20</td>\n",
       "      <td>0</td>\n",
       "      <td>0</td>\n",
       "      <td>20</td>\n",
       "      <td>All Levels</td>\n",
       "      <td>0.616667</td>\n",
       "      <td>2016-05-16T18:28:30Z</td>\n",
       "      <td>Business Finance</td>\n",
       "    </tr>\n",
       "    <tr>\n",
       "      <th>788</th>\n",
       "      <td>1157298</td>\n",
       "      <td>Introduction to Forex Trading Business For Beg...</td>\n",
       "      <td>https://www.udemy.com/introduction-to-forex-tr...</td>\n",
       "      <td>True</td>\n",
       "      <td>20</td>\n",
       "      <td>0</td>\n",
       "      <td>0</td>\n",
       "      <td>27</td>\n",
       "      <td>Beginner Level</td>\n",
       "      <td>1.500000</td>\n",
       "      <td>2017-04-23T16:19:01Z</td>\n",
       "      <td>Business Finance</td>\n",
       "    </tr>\n",
       "    <tr>\n",
       "      <th>894</th>\n",
       "      <td>1035638</td>\n",
       "      <td>Understanding Financial Statements</td>\n",
       "      <td>https://www.udemy.com/understanding-financial-...</td>\n",
       "      <td>True</td>\n",
       "      <td>25</td>\n",
       "      <td>0</td>\n",
       "      <td>0</td>\n",
       "      <td>10</td>\n",
       "      <td>All Levels</td>\n",
       "      <td>1.000000</td>\n",
       "      <td>2016-12-15T14:56:17Z</td>\n",
       "      <td>Business Finance</td>\n",
       "    </tr>\n",
       "    <tr>\n",
       "      <th>1100</th>\n",
       "      <td>1084454</td>\n",
       "      <td>CFA Level 2- Quantitative Methods</td>\n",
       "      <td>https://www.udemy.com/cfa-level-2-quantitative...</td>\n",
       "      <td>True</td>\n",
       "      <td>40</td>\n",
       "      <td>0</td>\n",
       "      <td>0</td>\n",
       "      <td>35</td>\n",
       "      <td>All Levels</td>\n",
       "      <td>5.500000</td>\n",
       "      <td>2017-07-02T14:29:35Z</td>\n",
       "      <td>Business Finance</td>\n",
       "    </tr>\n",
       "    <tr>\n",
       "      <th>1473</th>\n",
       "      <td>185526</td>\n",
       "      <td>MicroStation - Células</td>\n",
       "      <td>https://www.udemy.com/microstation-celulas/</td>\n",
       "      <td>True</td>\n",
       "      <td>20</td>\n",
       "      <td>0</td>\n",
       "      <td>0</td>\n",
       "      <td>9</td>\n",
       "      <td>Beginner Level</td>\n",
       "      <td>0.616667</td>\n",
       "      <td>2014-04-15T21:48:55Z</td>\n",
       "      <td>Graphic Design</td>\n",
       "    </tr>\n",
       "    <tr>\n",
       "      <th>2561</th>\n",
       "      <td>28295</td>\n",
       "      <td>Learn Web Designing &amp; HTML5/CSS3 Essentials in...</td>\n",
       "      <td>https://www.udemy.com/build-beautiful-html5-we...</td>\n",
       "      <td>True</td>\n",
       "      <td>75</td>\n",
       "      <td>43285</td>\n",
       "      <td>525</td>\n",
       "      <td>24</td>\n",
       "      <td>All Levels</td>\n",
       "      <td>4.000000</td>\n",
       "      <td>2013-01-03T00:55:31Z</td>\n",
       "      <td>Web Development</td>\n",
       "    </tr>\n",
       "  </tbody>\n",
       "</table>\n",
       "</div>"
      ],
      "text/plain": [
       "      course_id                                       course_title  \\\n",
       "787      837322  Essentials of money value: Get a financial Life !   \n",
       "788     1157298  Introduction to Forex Trading Business For Beg...   \n",
       "894     1035638                 Understanding Financial Statements   \n",
       "1100    1084454                  CFA Level 2- Quantitative Methods   \n",
       "1473     185526                             MicroStation - Células   \n",
       "2561      28295  Learn Web Designing & HTML5/CSS3 Essentials in...   \n",
       "\n",
       "                                                    url  is_paid  price  \\\n",
       "787    https://www.udemy.com/essentials-of-money-value/     True     20   \n",
       "788   https://www.udemy.com/introduction-to-forex-tr...     True     20   \n",
       "894   https://www.udemy.com/understanding-financial-...     True     25   \n",
       "1100  https://www.udemy.com/cfa-level-2-quantitative...     True     40   \n",
       "1473        https://www.udemy.com/microstation-celulas/     True     20   \n",
       "2561  https://www.udemy.com/build-beautiful-html5-we...     True     75   \n",
       "\n",
       "      num_subscribers  num_reviews  num_lectures           level  \\\n",
       "787                 0            0            20      All Levels   \n",
       "788                 0            0            27  Beginner Level   \n",
       "894                 0            0            10      All Levels   \n",
       "1100                0            0            35      All Levels   \n",
       "1473                0            0             9  Beginner Level   \n",
       "2561            43285          525            24      All Levels   \n",
       "\n",
       "      content_duration   published_timestamp           subject  \n",
       "787           0.616667  2016-05-16T18:28:30Z  Business Finance  \n",
       "788           1.500000  2017-04-23T16:19:01Z  Business Finance  \n",
       "894           1.000000  2016-12-15T14:56:17Z  Business Finance  \n",
       "1100          5.500000  2017-07-02T14:29:35Z  Business Finance  \n",
       "1473          0.616667  2014-04-15T21:48:55Z    Graphic Design  \n",
       "2561          4.000000  2013-01-03T00:55:31Z   Web Development  "
      ]
     },
     "execution_count": 8,
     "metadata": {},
     "output_type": "execute_result"
    }
   ],
   "source": [
    "data[data.duplicated()]"
   ]
  },
  {
   "cell_type": "code",
   "execution_count": 9,
   "metadata": {},
   "outputs": [],
   "source": [
    "data = data.drop_duplicates()"
   ]
  },
  {
   "cell_type": "code",
   "execution_count": 10,
   "metadata": {},
   "outputs": [
    {
     "data": {
      "text/plain": [
       "(3672, 12)"
      ]
     },
     "execution_count": 10,
     "metadata": {},
     "output_type": "execute_result"
    }
   ],
   "source": [
    "data.shape"
   ]
  },
  {
   "cell_type": "code",
   "execution_count": 11,
   "metadata": {},
   "outputs": [
    {
     "data": {
      "text/plain": [
       "0                      Ultimate Investment Banking Course\n",
       "1       Complete GST Course & Certification - Grow You...\n",
       "2       Financial Modeling for Business Analysts and C...\n",
       "3       Beginner to Pro - Financial Analysis in Excel ...\n",
       "4            How To Maximize Your Profits Trading Options\n",
       "                              ...                        \n",
       "3673    Learn jQuery from Scratch - Master of JavaScri...\n",
       "3674    How To Design A WordPress Website With No Codi...\n",
       "3675                        Learn and Build using Polymer\n",
       "3676    CSS Animations: Create Amazing Effects on Your...\n",
       "3677    Using MODX CMS to Build Websites: A Beginner's...\n",
       "Name: course_title, Length: 3672, dtype: object"
      ]
     },
     "execution_count": 11,
     "metadata": {},
     "output_type": "execute_result"
    }
   ],
   "source": [
    "data['course_title']"
   ]
  },
  {
   "cell_type": "code",
   "execution_count": 12,
   "metadata": {},
   "outputs": [
    {
     "data": {
      "text/plain": [
       "Index(['course_id', 'course_title', 'url', 'is_paid', 'price',\n",
       "       'num_subscribers', 'num_reviews', 'num_lectures', 'level',\n",
       "       'content_duration', 'published_timestamp', 'subject'],\n",
       "      dtype='object')"
      ]
     },
     "execution_count": 12,
     "metadata": {},
     "output_type": "execute_result"
    }
   ],
   "source": [
    "data.columns"
   ]
  },
  {
   "cell_type": "markdown",
   "metadata": {},
   "source": [
    "### Popularity-based recommendation system "
   ]
  },
  {
   "cell_type": "code",
   "execution_count": 13,
   "metadata": {},
   "outputs": [],
   "source": [
    "def popularity_based_recommendation(df,top_n=5):\n",
    "    # Calculate popularity score for each course\n",
    "    data['popularity_score'] = 0.6 * data['num_subscribers'] + 0.4 * data['num_reviews']\n",
    "    \n",
    "    # Sort courses by popularity score in descending order\n",
    "    df_sorted = data.sort_values(by='popularity_score', ascending=False)\n",
    "    \n",
    "    # Return the recommended courses (course titles and popularity scores)\n",
    "    recommended_courses = df_sorted[['course_title', 'popularity_score']].head(top_n)\n",
    "    \n",
    "    return recommended_courses"
   ]
  },
  {
   "cell_type": "code",
   "execution_count": 14,
   "metadata": {},
   "outputs": [
    {
     "data": {
      "text/html": [
       "<div>\n",
       "<style scoped>\n",
       "    .dataframe tbody tr th:only-of-type {\n",
       "        vertical-align: middle;\n",
       "    }\n",
       "\n",
       "    .dataframe tbody tr th {\n",
       "        vertical-align: top;\n",
       "    }\n",
       "\n",
       "    .dataframe thead th {\n",
       "        text-align: right;\n",
       "    }\n",
       "</style>\n",
       "<table border=\"1\" class=\"dataframe\">\n",
       "  <thead>\n",
       "    <tr style=\"text-align: right;\">\n",
       "      <th></th>\n",
       "      <th>course_title</th>\n",
       "      <th>popularity_score</th>\n",
       "    </tr>\n",
       "  </thead>\n",
       "  <tbody>\n",
       "    <tr>\n",
       "      <th>2827</th>\n",
       "      <td>Learn HTML5 Programming From Scratch</td>\n",
       "      <td>164805.4</td>\n",
       "    </tr>\n",
       "    <tr>\n",
       "      <th>3032</th>\n",
       "      <td>Coding for Entrepreneurs Basic</td>\n",
       "      <td>96729.0</td>\n",
       "    </tr>\n",
       "    <tr>\n",
       "      <th>3230</th>\n",
       "      <td>The Web Developer Bootcamp</td>\n",
       "      <td>83928.4</td>\n",
       "    </tr>\n",
       "    <tr>\n",
       "      <th>3232</th>\n",
       "      <td>The Complete Web Developer Course 2.0</td>\n",
       "      <td>77672.0</td>\n",
       "    </tr>\n",
       "    <tr>\n",
       "      <th>2783</th>\n",
       "      <td>Build Your First Website in 1 Week with HTML5 ...</td>\n",
       "      <td>74544.2</td>\n",
       "    </tr>\n",
       "  </tbody>\n",
       "</table>\n",
       "</div>"
      ],
      "text/plain": [
       "                                           course_title  popularity_score\n",
       "2827               Learn HTML5 Programming From Scratch          164805.4\n",
       "3032                     Coding for Entrepreneurs Basic           96729.0\n",
       "3230                         The Web Developer Bootcamp           83928.4\n",
       "3232              The Complete Web Developer Course 2.0           77672.0\n",
       "2783  Build Your First Website in 1 Week with HTML5 ...           74544.2"
      ]
     },
     "execution_count": 14,
     "metadata": {},
     "output_type": "execute_result"
    }
   ],
   "source": [
    "popularity_based_recommendation(data)"
   ]
  },
  {
   "cell_type": "markdown",
   "metadata": {},
   "source": [
    "### Content-Based Recommendation System"
   ]
  },
  {
   "cell_type": "code",
   "execution_count": 15,
   "metadata": {},
   "outputs": [],
   "source": [
    "data['course_title'] = data['course_title'].apply(nfx.remove_stopwords)\n",
    "data['course_title']  =data['course_title'].apply(nfx.remove_special_characters)"
   ]
  },
  {
   "cell_type": "code",
   "execution_count": 16,
   "metadata": {},
   "outputs": [
    {
     "data": {
      "text/html": [
       "<div>\n",
       "<style scoped>\n",
       "    .dataframe tbody tr th:only-of-type {\n",
       "        vertical-align: middle;\n",
       "    }\n",
       "\n",
       "    .dataframe tbody tr th {\n",
       "        vertical-align: top;\n",
       "    }\n",
       "\n",
       "    .dataframe thead th {\n",
       "        text-align: right;\n",
       "    }\n",
       "</style>\n",
       "<table border=\"1\" class=\"dataframe\">\n",
       "  <thead>\n",
       "    <tr style=\"text-align: right;\">\n",
       "      <th></th>\n",
       "      <th>course_id</th>\n",
       "      <th>course_title</th>\n",
       "      <th>url</th>\n",
       "      <th>is_paid</th>\n",
       "      <th>price</th>\n",
       "      <th>num_subscribers</th>\n",
       "      <th>num_reviews</th>\n",
       "      <th>num_lectures</th>\n",
       "      <th>level</th>\n",
       "      <th>content_duration</th>\n",
       "      <th>published_timestamp</th>\n",
       "      <th>subject</th>\n",
       "      <th>popularity_score</th>\n",
       "    </tr>\n",
       "  </thead>\n",
       "  <tbody>\n",
       "    <tr>\n",
       "      <th>3329</th>\n",
       "      <td>667992</td>\n",
       "      <td>Learn Symfony 3 framework practical examples</td>\n",
       "      <td>https://www.udemy.com/learn-symfony-3-framewor...</td>\n",
       "      <td>True</td>\n",
       "      <td>125</td>\n",
       "      <td>867</td>\n",
       "      <td>177</td>\n",
       "      <td>48</td>\n",
       "      <td>All Levels</td>\n",
       "      <td>4.0</td>\n",
       "      <td>2016-09-19T21:05:38Z</td>\n",
       "      <td>Web Development</td>\n",
       "      <td>591.0</td>\n",
       "    </tr>\n",
       "    <tr>\n",
       "      <th>1417</th>\n",
       "      <td>978462</td>\n",
       "      <td>Blender Modelling Series  Volume</td>\n",
       "      <td>https://www.udemy.com/blender-modelling-series...</td>\n",
       "      <td>True</td>\n",
       "      <td>100</td>\n",
       "      <td>1526</td>\n",
       "      <td>3</td>\n",
       "      <td>24</td>\n",
       "      <td>Beginner Level</td>\n",
       "      <td>2.0</td>\n",
       "      <td>2016-10-12T20:22:14Z</td>\n",
       "      <td>Graphic Design</td>\n",
       "      <td>916.8</td>\n",
       "    </tr>\n",
       "    <tr>\n",
       "      <th>3245</th>\n",
       "      <td>1093608</td>\n",
       "      <td>Comprehensive Web Development Course</td>\n",
       "      <td>https://www.udemy.com/comprehensive-web-develo...</td>\n",
       "      <td>True</td>\n",
       "      <td>200</td>\n",
       "      <td>333</td>\n",
       "      <td>22</td>\n",
       "      <td>353</td>\n",
       "      <td>All Levels</td>\n",
       "      <td>42.0</td>\n",
       "      <td>2017-05-01T22:36:28Z</td>\n",
       "      <td>Web Development</td>\n",
       "      <td>208.6</td>\n",
       "    </tr>\n",
       "    <tr>\n",
       "      <th>1291</th>\n",
       "      <td>406504</td>\n",
       "      <td>InDesign Pro 10 Skills</td>\n",
       "      <td>https://www.udemy.com/become-an-indesign-pro-i...</td>\n",
       "      <td>True</td>\n",
       "      <td>105</td>\n",
       "      <td>1079</td>\n",
       "      <td>172</td>\n",
       "      <td>35</td>\n",
       "      <td>Beginner Level</td>\n",
       "      <td>5.0</td>\n",
       "      <td>2015-08-21T22:22:39Z</td>\n",
       "      <td>Graphic Design</td>\n",
       "      <td>716.2</td>\n",
       "    </tr>\n",
       "    <tr>\n",
       "      <th>1351</th>\n",
       "      <td>804096</td>\n",
       "      <td>Curso Completo de SolidWorks 2016</td>\n",
       "      <td>https://www.udemy.com/curso-de-chapa-metalica-...</td>\n",
       "      <td>True</td>\n",
       "      <td>30</td>\n",
       "      <td>129</td>\n",
       "      <td>27</td>\n",
       "      <td>43</td>\n",
       "      <td>All Levels</td>\n",
       "      <td>9.0</td>\n",
       "      <td>2016-12-29T01:19:32Z</td>\n",
       "      <td>Graphic Design</td>\n",
       "      <td>88.2</td>\n",
       "    </tr>\n",
       "  </tbody>\n",
       "</table>\n",
       "</div>"
      ],
      "text/plain": [
       "      course_id                                  course_title  \\\n",
       "3329     667992  Learn Symfony 3 framework practical examples   \n",
       "1417     978462              Blender Modelling Series  Volume   \n",
       "3245    1093608          Comprehensive Web Development Course   \n",
       "1291     406504                        InDesign Pro 10 Skills   \n",
       "1351     804096             Curso Completo de SolidWorks 2016   \n",
       "\n",
       "                                                    url  is_paid  price  \\\n",
       "3329  https://www.udemy.com/learn-symfony-3-framewor...     True    125   \n",
       "1417  https://www.udemy.com/blender-modelling-series...     True    100   \n",
       "3245  https://www.udemy.com/comprehensive-web-develo...     True    200   \n",
       "1291  https://www.udemy.com/become-an-indesign-pro-i...     True    105   \n",
       "1351  https://www.udemy.com/curso-de-chapa-metalica-...     True     30   \n",
       "\n",
       "      num_subscribers  num_reviews  num_lectures           level  \\\n",
       "3329              867          177            48      All Levels   \n",
       "1417             1526            3            24  Beginner Level   \n",
       "3245              333           22           353      All Levels   \n",
       "1291             1079          172            35  Beginner Level   \n",
       "1351              129           27            43      All Levels   \n",
       "\n",
       "      content_duration   published_timestamp          subject  \\\n",
       "3329               4.0  2016-09-19T21:05:38Z  Web Development   \n",
       "1417               2.0  2016-10-12T20:22:14Z   Graphic Design   \n",
       "3245              42.0  2017-05-01T22:36:28Z  Web Development   \n",
       "1291               5.0  2015-08-21T22:22:39Z   Graphic Design   \n",
       "1351               9.0  2016-12-29T01:19:32Z   Graphic Design   \n",
       "\n",
       "      popularity_score  \n",
       "3329             591.0  \n",
       "1417             916.8  \n",
       "3245             208.6  \n",
       "1291             716.2  \n",
       "1351              88.2  "
      ]
     },
     "execution_count": 16,
     "metadata": {},
     "output_type": "execute_result"
    }
   ],
   "source": [
    "data.sample(5)"
   ]
  },
  {
   "cell_type": "code",
   "execution_count": 17,
   "metadata": {},
   "outputs": [],
   "source": [
    "data['title_subject']  =data['course_title'] +' '+data['subject']"
   ]
  },
  {
   "cell_type": "code",
   "execution_count": 18,
   "metadata": {},
   "outputs": [],
   "source": [
    "cv = CountVectorizer(max_features=3000)\n",
    "vectors = cv.fit_transform(data['title_subject']).toarray()"
   ]
  },
  {
   "cell_type": "code",
   "execution_count": 19,
   "metadata": {},
   "outputs": [
    {
     "data": {
      "text/plain": [
       "array([0, 0, 0, ..., 0, 0, 0], dtype=int64)"
      ]
     },
     "execution_count": 19,
     "metadata": {},
     "output_type": "execute_result"
    }
   ],
   "source": [
    "vectors[0]"
   ]
  },
  {
   "cell_type": "code",
   "execution_count": 20,
   "metadata": {},
   "outputs": [
    {
     "name": "stderr",
     "output_type": "stream",
     "text": [
      "C:\\ProgramData\\Anaconda3\\lib\\site-packages\\sklearn\\utils\\deprecation.py:87: FutureWarning: Function get_feature_names is deprecated; get_feature_names is deprecated in 1.0 and will be removed in 1.2. Please use get_feature_names_out instead.\n",
      "  warnings.warn(msg, category=FutureWarning)\n"
     ]
    },
    {
     "data": {
      "text/plain": [
       "3000"
      ]
     },
     "execution_count": 20,
     "metadata": {},
     "output_type": "execute_result"
    }
   ],
   "source": [
    "len(cv.get_feature_names())"
   ]
  },
  {
   "cell_type": "code",
   "execution_count": 21,
   "metadata": {},
   "outputs": [],
   "source": [
    "#cv.get_feature_names()"
   ]
  },
  {
   "cell_type": "code",
   "execution_count": 22,
   "metadata": {},
   "outputs": [],
   "source": [
    "from sklearn.metrics.pairwise import cosine_similarity"
   ]
  },
  {
   "cell_type": "code",
   "execution_count": 23,
   "metadata": {},
   "outputs": [],
   "source": [
    "similarity = cosine_similarity(vectors)"
   ]
  },
  {
   "cell_type": "code",
   "execution_count": 24,
   "metadata": {},
   "outputs": [
    {
     "data": {
      "text/plain": [
       "[(39, 0.7715167498104596),\n",
       " (240, 0.6666666666666669),\n",
       " (417, 0.6666666666666669),\n",
       " (418, 0.6172133998483676),\n",
       " (657, 0.6172133998483676)]"
      ]
     },
     "execution_count": 24,
     "metadata": {},
     "output_type": "execute_result"
    }
   ],
   "source": [
    "sorted(list(enumerate(similarity[0])),reverse=True,key=lambda x:x[1])[1:6]"
   ]
  },
  {
   "cell_type": "code",
   "execution_count": 25,
   "metadata": {},
   "outputs": [],
   "source": [
    "def recommend(course):\n",
    "    # let's featch the index\n",
    "    course_index = data[data['course_title']==course].index[0]\n",
    "    distances = similarity[course_index]\n",
    "    courses_list = sorted(list(enumerate(distances)),reverse=True,key=lambda x:x[1])[1:6]\n",
    "    for i in courses_list:\n",
    "        print(data.iloc[i[0]]['course_title'])"
   ]
  },
  {
   "cell_type": "code",
   "execution_count": 26,
   "metadata": {},
   "outputs": [],
   "source": [
    "#recommend(\"know HTML Learn HTML Basics\")"
   ]
  },
  {
   "cell_type": "code",
   "execution_count": 27,
   "metadata": {},
   "outputs": [
    {
     "name": "stdout",
     "output_type": "stream",
     "text": [
      "WordPress Development Beginners\n",
      "Wordpress Theme Development Beginners\n",
      "Wordpress beginners Build Websites Fast Coding\n",
      "Website Coding WordPress  Web Skills\n",
      "Kids Coding  Beginners CSS\n"
     ]
    }
   ],
   "source": [
    "recommend(\"know HTML Learn HTML Basics\")"
   ]
  },
  {
   "cell_type": "code",
   "execution_count": 28,
   "metadata": {},
   "outputs": [
    {
     "data": {
      "text/plain": [
       "'Complete Investment Banking Course 2017'"
      ]
     },
     "execution_count": 28,
     "metadata": {},
     "output_type": "execute_result"
    }
   ],
   "source": [
    "data.iloc[39]['course_title']"
   ]
  },
  {
   "cell_type": "code",
   "execution_count": 29,
   "metadata": {},
   "outputs": [],
   "source": [
    "#sorted(similarity[0],reverse=True)"
   ]
  },
  {
   "cell_type": "code",
   "execution_count": 30,
   "metadata": {},
   "outputs": [],
   "source": [
    "import pickle"
   ]
  },
  {
   "cell_type": "code",
   "execution_count": 31,
   "metadata": {},
   "outputs": [],
   "source": [
    "#pickle.dump(data.to_dict(),open('course_dict.pkl','wb'))\n",
    "pickle.dump(data,open('course_dict.pkl','wb'))"
   ]
  },
  {
   "cell_type": "code",
   "execution_count": 32,
   "metadata": {},
   "outputs": [],
   "source": [
    "pickle.dump(similarity,open('similarity.pkl','wb'))"
   ]
  },
  {
   "cell_type": "code",
   "execution_count": null,
   "metadata": {},
   "outputs": [],
   "source": []
  },
  {
   "cell_type": "code",
   "execution_count": 33,
   "metadata": {},
   "outputs": [],
   "source": [
    "import tkinter as tk\n",
    "from tkinter import ttk, messagebox\n",
    "import pandas as pd\n",
    "\n",
    "# Assume 'data', 'similarity' are defined elsewhere\n",
    "\n",
    "# Define the popularity-based recommendation function\n",
    "def popularity_based_recommendation(df, top_n=5):\n",
    "    df['popularity_score'] = 0.6 * df['num_subscribers'] + 0.4 * df['num_reviews']\n",
    "    df_sorted = df.sort_values(by='popularity_score', ascending=False)\n",
    "    recommended_courses = df_sorted[['course_title', 'popularity_score']].head(top_n)\n",
    "    return recommended_courses\n",
    "\n",
    "# Define the recommend function\n",
    "def recommend(course):\n",
    "    try:\n",
    "        course_index = data[data['course_title'] == course].index[0]\n",
    "        distances = similarity[course_index]\n",
    "        courses_list = sorted(list(enumerate(distances)), reverse=True, key=lambda x: x[1])[1:6]\n",
    "        recommended_courses = [data.iloc[i[0]]['course_title'] for i in courses_list]\n",
    "        return recommended_courses\n",
    "    except IndexError:\n",
    "        messagebox.showerror(\"Error\", f\"Course '{course}' not found.\")\n",
    "\n",
    "# Event handler for the \"Recommend\" button\n",
    "def recommend_button_click():\n",
    "    course_title = course_var.get()\n",
    "    recommended_courses = recommend(course_title)\n",
    "    if recommended_courses:\n",
    "        popularity_label.pack_forget()\n",
    "        result_label.config(text=\"Recommended Courses:\\n\" + '\\n'.join(recommended_courses))\n",
    "\n",
    "# Create the main application window\n",
    "root = tk.Tk()\n",
    "root.title(\"Course Recommender\")\n",
    "root.geometry(\"400x300\")\n",
    "\n",
    "# Change font and color\n",
    "font_style = (\"Arial\", 12)\n",
    "label_color = \"blue\"\n",
    "heading_color=\"red\"\n",
    "button_color = \"green\"\n",
    "result_label_color = \"black\"\n",
    "\n",
    "# Create and place GUI elements\n",
    "label = tk.Label(root, text=\"Select Course:\", font=font_style, fg=label_color)\n",
    "label.pack(pady=10)\n",
    "\n",
    "course_titles = data['course_title'].tolist()\n",
    "course_var = tk.StringVar(value=course_titles[0])\n",
    "course_dropdown = ttk.Combobox(root, textvariable=course_var, values=course_titles, width=40, font=font_style)\n",
    "course_dropdown.pack(pady=5)\n",
    "\n",
    "popularity_recommendations = popularity_based_recommendation(data, top_n=5)\n",
    "popularity_label = tk.Label(root, text=\"Popularity-based Recommendations:\\n\" + popularity_recommendations.to_string(index=False),\n",
    "                             font=font_style, fg=label_color)\n",
    "popularity_label.pack()\n",
    "\n",
    "recommend_button = tk.Button(root, text=\"Recommend\", command=recommend_button_click, width=20, font=font_style, fg=button_color)\n",
    "recommend_button.pack(pady=10)\n",
    "\n",
    "result_label = tk.Label(root, text=\"\", wraplength=350, font=font_style, fg=result_label_color)\n",
    "result_label.pack()\n",
    "\n",
    "root.mainloop()\n"
   ]
  },
  {
   "cell_type": "code",
   "execution_count": null,
   "metadata": {},
   "outputs": [],
   "source": []
  },
  {
   "cell_type": "code",
   "execution_count": null,
   "metadata": {},
   "outputs": [],
   "source": []
  },
  {
   "cell_type": "code",
   "execution_count": null,
   "metadata": {},
   "outputs": [],
   "source": []
  }
 ],
 "metadata": {
  "kernelspec": {
   "display_name": "Python 3",
   "language": "python",
   "name": "python3"
  },
  "language_info": {
   "codemirror_mode": {
    "name": "ipython",
    "version": 3
   },
   "file_extension": ".py",
   "mimetype": "text/x-python",
   "name": "python",
   "nbconvert_exporter": "python",
   "pygments_lexer": "ipython3",
   "version": "3.7.9"
  }
 },
 "nbformat": 4,
 "nbformat_minor": 5
}
